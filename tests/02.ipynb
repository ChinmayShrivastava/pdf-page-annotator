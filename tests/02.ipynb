{
 "cells": [
  {
   "cell_type": "code",
   "execution_count": 1,
   "metadata": {},
   "outputs": [],
   "source": [
    "from pdf_page_annotator import PDFAnnotator\n",
    "from llama_index.llms.openai import OpenAI"
   ]
  },
  {
   "cell_type": "code",
   "execution_count": 2,
   "metadata": {},
   "outputs": [
    {
     "name": "stderr",
     "output_type": "stream",
     "text": [
      "Initialized PDFAnnotator with egsearch.pdf\n"
     ]
    }
   ],
   "source": [
    "pa = PDFAnnotator(\n",
    "    pdf_path=\"egsearch.pdf\",\n",
    "    verbose=True,\n",
    ")"
   ]
  },
  {
   "cell_type": "code",
   "execution_count": 3,
   "metadata": {},
   "outputs": [
    {
     "name": "stderr",
     "output_type": "stream",
     "text": [
      "Page 0 ...\n",
      "Page 1 ...\n",
      "Page 2 ...\n",
      "Page 3 ...\n",
      "Page 4 ...\n",
      "Page 5 ...\n",
      "Page 6 ...\n",
      "Page 7 ...\n",
      "Page 8 ...\n",
      "Page 9 ...\n",
      "Page 10 ...\n",
      "Page 11 ...\n",
      "Page 12 ...\n",
      "Page 13 ...\n",
      "Finished annotating table of contents\n",
      "Extracting contents ...\n",
      "Extracting contents from page 10 ...\n",
      "Extracting contents from page 11 ...\n",
      "Extracting contents from page 12 ...\n",
      "Extracted contents\n",
      "Extracting contents from chunk ...\n",
      "Extracting contents from chunk ...\n",
      "Extracting contents from chunk ...\n",
      "Extracting contents from chunk ...\n",
      "Extracting contents from chunk ...\n",
      "Extracting contents from chunk ...\n",
      "Extracting contents from chunk ...\n",
      "Extracting contents from chunk ...\n",
      "Extracting contents from chunk ...\n",
      "Extracting contents from chunk ...\n"
     ]
    }
   ],
   "source": [
    "pa.run_extraction_pipeline()"
   ]
  },
  {
   "cell_type": "code",
   "execution_count": 5,
   "metadata": {},
   "outputs": [
    {
     "data": {
      "text/plain": [
       "63"
      ]
     },
     "execution_count": 5,
     "metadata": {},
     "output_type": "execute_result"
    }
   ],
   "source": [
    "len(pa.contents)"
   ]
  },
  {
   "cell_type": "code",
   "execution_count": 9,
   "metadata": {},
   "outputs": [],
   "source": [
    "# save into a contents.txt file\n",
    "with open(\"contents.txt\", \"w\") as f:\n",
    "    for content in pa.contents:\n",
    "        unique_title = content.unique_title\n",
    "        start_page = content.start_page\n",
    "        end_page = content.end_page\n",
    "        f.write(f\"{unique_title}<>{start_page}<>{end_page}\\n\")"
   ]
  },
  {
   "cell_type": "code",
   "execution_count": 15,
   "metadata": {},
   "outputs": [
    {
     "name": "stdout",
     "output_type": "stream",
     "text": [
      "As an advanced language model your job is to figure out which section contains the user requested information.\n",
      "You are given a list of table of contents along with the start and end page numbers of each section.\n",
      "For the user query, output the start and end page numbers, as a tuple, that contain the information.\n",
      "Respect the hirerachy and consider all the sub-sections nested within the section that contain the information.\n",
      "Example:\n",
      "User Query:\n",
      "What is the definition of a llama?\n",
      "Expected response:\n",
      "(1, 5)\n",
      "---\n",
      "Table of Contents:\n",
      "{contents}\n",
      "---\n",
      "Based on the table of contents above, output the start and end page numbers that contain the information.\n",
      "User Query:\n",
      "{query}\n",
      "Response:\n"
     ]
    }
   ],
   "source": [
    "prompt = \"\"\"As an advanced language model your job is to figure out which section contains the user requested information.\n",
    "You are given a list of table of contents along with the start and end page numbers of each section.\n",
    "For the user query, output the start and end page numbers, as a tuple, that contain the information.\n",
    "Respect the hirerachy and consider all the sub-sections nested within the section that contain the information.\n",
    "Example:\n",
    "User Query:\n",
    "What is the definition of a llama?\n",
    "Expected response:\n",
    "(1, 5)\n",
    "---\n",
    "Table of Contents:\n",
    "{contents}\n",
    "---\n",
    "Based on the table of contents above, output the start and end page numbers that contain the information.\n",
    "User Query:\n",
    "{query}\n",
    "Response:\"\"\"\n",
    "print(prompt)"
   ]
  },
  {
   "cell_type": "code",
   "execution_count": 20,
   "metadata": {},
   "outputs": [
    {
     "name": "stdout",
     "output_type": "stream",
     "text": [
      "As an advanced language model your job is to figure out which section contains the user requested information.\n",
      "You are given a list of table of contents along with the start and end page numbers of each section.\n",
      "For the user query, output the start and end page numbers, as a tuple, that contain the information.\n",
      "Respect the hirerachy and consider all the sub-sections nested within the section that contain the information.\n",
      "Example:\n",
      "User Query:\n",
      "What is the definition of a llama?\n",
      "Expected response:\n",
      "(1, 5)\n",
      "---\n",
      "Table of Contents:\n",
      "REQUEST FOR QUOTATION - 13 to 14\n",
      "RFQObjectives - 13 to 13\n",
      "RFQOr ganization - 13 to 13\n",
      "Use of Simplified Acquisition Procedures - 13 to 14\n",
      "North American Industry Classification System (NAICS) - 13 to 13\n",
      "Small Business Set-Aside - 14 to 14\n",
      "Conflict Of Interest - 14 to 14\n",
      "Government Rights - 14 to 14\n",
      "1.5.1 Award - 14 to 14\n",
      "1.5.2 No Award - 15 to 15\n",
      "1.6 Quote Preparation Cost - 15 to 15\n",
      "1.7 RFQ Points Of Contact - 15 to 15\n",
      "1.8 Privacy Act Requirements - 15 to 15\n",
      "1.9.1 Non-Disclosure Agreement - 16 to 16\n",
      "1.10 Rights In Data - 16 to 16\n",
      "1.11 Quote Submission - 16 to 16\n",
      "1.12 Schedule - 18 to 18\n",
      "1.13 PRICING CONTRACT LINE ITEM NUMBER (CLIN) DESCRIPTIONS - 20 to 20\n",
      "SECTION 2 – PERFORMANCE WORK STATEMENT (PWS) - 22 to 22\n",
      "SECTION 3 – VENDOR QUOTATION INSTRUCTIONS - 22 to 23\n",
      "- 3.0 General - 22 to 22\n",
      "- 3.0.1 Amendments to the RFQ - 22 to 22\n",
      "- 3.1 Quote Format - 23 to 23\n",
      "- - Table 4: Quote Formatting & Page Limit Information - 23 to 23\n",
      "- 3.1.1 Page Layout and Type Formatting - 23 to 23\n",
      "- 3.2 Volume I/Factor 1- Technical Capability/Risk - 23 to 23\n",
      "Volume II/ Factor 2 –Past Performance - 25 to 28\n",
      "- Recency and Relevancy of Prior Contracts - 26 to 26\n",
      "Volume III/Factor 3 - Price Quote - 26 to 26\n",
      "Volume IV –Contract Documentation - 26 to 26\n",
      "SECTION 4 –EVALUATION FACTORS AND AWARD PROCESS - 28 to 28\n",
      "Evaluation Criteria - 28 to 28\n",
      "Evaluation Factors - 28 to 28\n",
      "Best Value- Trade-Off Evaluation - 29 to 29\n",
      "Evaluation of Factor 1: Technical Capability/Risk - 29 to 29\n",
      "Technical Capability/Risk rating scale - 31 to 31\n",
      "Past Performance Rating Method - 33 to 33\n",
      "Past Performance Recency rating scale - 33 to 33\n",
      "Past Performance Relevancy rating scale - 34 to 34\n",
      "Table 4.2.3.3 Past Performance Confidence Assessment rating scale - 34 to 34\n",
      "Evaluation of Factor 3: Price - 35 to 35\n",
      "Basis for Award - 35 to 35\n",
      "SECTION 5 –SOLICITATION PROVISIONS AND CONTRACT CLAUSES - 37 to 37\n",
      "SECTION 6- ATTACHMENTS AND EXHIBITS - 42 to 42\n",
      "Table 6.1 Attachments and Exhibits - 42 to 42\n",
      "REQUEST FOR QUOTATION - 13 to 13\n",
      "SECTION 1 - REQUEST FOR QUOTATION - 13 to 13\n",
      "1.1 RFQ Objectives - 13 to 13\n",
      "Advanced Research Projects Agency for Health (ARPA-H) - 13 to 13\n",
      "Request for Quotation (RFQ) for Career Lifecycle Management Support (CLMS) services - 13 to 13\n",
      "Firm Fixed -Price (FFP) and Time and Materials (T&M) Single Award - 5 to 5\n",
      "Indefinite Delivery Indefinite Quantity (IDIQ)contract using NAICS code 611430,Professional and Management Development Training - 5 to 5\n",
      "Period of Performance - 5 to 5\n",
      "RFQ Organization - 5 to 5\n",
      "Solicitation for Commercial Products and Commercial Services - 1 to 1\n",
      "- Section 1: Contains contracting formation regarding use of Simplified Acquisition Procedures - 2 to 2\n",
      "- Section 2: Includes the objectives for the acquisition and states the performance and technical requirements - 3 to 3\n",
      "- Section 3: Contains instructions for submittal of quotes and defines what is required by the Vendor for submission - 4 to 4\n",
      "- Section 4: Contains evaluation factors and award process that will be used as the basis for selecting a Vendor for award - 5 to 5\n",
      "Section 5 - 10 to 10\n",
      "Section 6 - 11 to 11\n",
      "1.3 Use of Simplified Acquisition Procedures - 12 to 12\n",
      "1.3.1 North American Industry Classification System (NAICS) - 12 to 12\n",
      "---\n",
      "Based on the table of contents above, output the start and end page numbers that contain the information.\n",
      "User Query:\n",
      "anything and everything relating to evaluation\n",
      "Response:\n"
     ]
    }
   ],
   "source": [
    "query = \"anything and everything relating to evaluation\"\n",
    "toc_string = \"\\n\".join([f\"{content.unique_title} - {content.start_page} to {content.end_page}\" for content in pa.contents])\n",
    "print(prompt.format(contents=toc_string, query=query))"
   ]
  },
  {
   "cell_type": "code",
   "execution_count": 21,
   "metadata": {},
   "outputs": [
    {
     "data": {
      "text/plain": [
       "'(28, 35)'"
      ]
     },
     "execution_count": 21,
     "metadata": {},
     "output_type": "execute_result"
    }
   ],
   "source": [
    "pa.llm.complete(prompt.format(contents=toc_string, query=query)).text"
   ]
  },
  {
   "cell_type": "code",
   "execution_count": null,
   "metadata": {},
   "outputs": [],
   "source": []
  }
 ],
 "metadata": {
  "kernelspec": {
   "display_name": "venv",
   "language": "python",
   "name": "python3"
  },
  "language_info": {
   "codemirror_mode": {
    "name": "ipython",
    "version": 3
   },
   "file_extension": ".py",
   "mimetype": "text/x-python",
   "name": "python",
   "nbconvert_exporter": "python",
   "pygments_lexer": "ipython3",
   "version": "3.11.5"
  }
 },
 "nbformat": 4,
 "nbformat_minor": 2
}
