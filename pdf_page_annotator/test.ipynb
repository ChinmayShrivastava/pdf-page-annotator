{
 "cells": [
  {
   "cell_type": "code",
   "execution_count": 1,
   "metadata": {},
   "outputs": [],
   "source": [
    "from PDFAnnotator import PDFAnnotator"
   ]
  },
  {
   "cell_type": "code",
   "execution_count": 2,
   "metadata": {},
   "outputs": [
    {
     "name": "stderr",
     "output_type": "stream",
     "text": [
      "Initialized PDFAnnotator with doefund.pdf\n"
     ]
    }
   ],
   "source": [
    "pdf_path = \"doefund.pdf\"\n",
    "annotator = PDFAnnotator(pdf_path, verbose=True)"
   ]
  },
  {
   "cell_type": "code",
   "execution_count": 3,
   "metadata": {},
   "outputs": [
    {
     "name": "stderr",
     "output_type": "stream",
     "text": [
      "Page 0 ...\n",
      "Page 1 ...\n",
      "Page 2 ...\n",
      "Page 3 ...\n",
      "Page 4 ...\n",
      "Page 5 ...\n",
      "Page 6 ...\n",
      "Finished annotating table of contents\n"
     ]
    },
    {
     "data": {
      "text/plain": [
       "[2, 3, 4, 5]"
      ]
     },
     "execution_count": 3,
     "metadata": {},
     "output_type": "execute_result"
    }
   ],
   "source": [
    "annotator.get_toc()"
   ]
  },
  {
   "cell_type": "code",
   "execution_count": 4,
   "metadata": {},
   "outputs": [
    {
     "name": "stderr",
     "output_type": "stream",
     "text": [
      "Extracting contents ...\n",
      "Extracting contents from page 2 ...\n",
      "Extracting contents from page 3 ...\n",
      "Extracting contents from page 4 ...\n",
      "Extracting contents from page 5 ...\n",
      "Extracted contents\n",
      "Extracting contents from chunk ...\n",
      "Extracting contents from chunk ...\n",
      "Extracting contents from chunk ...\n",
      "Extracting contents from chunk ...\n",
      "Extracting contents from chunk ...\n",
      "Extracting contents from chunk ...\n",
      "Extracting contents from chunk ...\n",
      "Extracting contents from chunk ...\n",
      "Extracting contents from chunk ...\n",
      "Extracting contents from chunk ...\n",
      "Extracting contents from chunk ...\n",
      "Extracting contents from chunk ...\n",
      "Extracting contents from chunk ...\n",
      "Extracting contents from chunk ...\n",
      "Extracting contents from chunk ...\n",
      "Extracting contents from chunk ...\n",
      "Extracting contents from chunk ...\n",
      "Extracting contents from chunk ...\n",
      "Extracting contents from chunk ...\n"
     ]
    },
    {
     "data": {
      "text/plain": [
       "[['I. Funding Opportunity Description', '1', '12'],\n",
       " ['A. Background and Context', '1', '2'],\n",
       " ['i. Program Purpose', '2', '2'],\n",
       " ['ii. Technology Space and Strategic Goals', '5', '5'],\n",
       " ['B. Topic Areas', '6', '6'],\n",
       " ['C. Applications Specifically Not of Interest', '11', '11'],\n",
       " ['D. R&D Community Benefits Plan (CBP)', '12', '12'],\n",
       " ['E. Authorizing Statutes', '12', '12'],\n",
       " ['F. Notice of Bipartisan Infrastructure Law', '13', '13'],\n",
       " ['II. Award Information', '14', '15'],\n",
       " ['A. Award Overview', '14', '14'],\n",
       " ['B. DOE Funding Agreements', '14', '15'],\n",
       " ['III. Eligibility Information', '15', '15'],\n",
       " ['A. Eligible Applicants', '15', '16'],\n",
       " ['B. Cost Sharing', '16', '19'],\n",
       " ['C. Compliance Criteria', '20', '20'],\n",
       " ['D. Responsiveness Criteria', '21', '21'],\n",
       " ['E. Other Eligibility Requirements', '21', '21'],\n",
       " ['F. Limitation on Number of Concept Papers and Full Applications Eligible for Review',\n",
       "  '22',\n",
       "  '22'],\n",
       " ['G. Questions Regarding Eligibility', '23', '23'],\n",
       " ['IV. Application and Submission Information', '23', '24'],\n",
       " ['A. Application Process', '23', '23'],\n",
       " ['i. Additional Information on EERE eXCHANGE', '24', '24'],\n",
       " ['B. Application Forms', '24', '24'],\n",
       " ['C. Content and Form of the Concept Paper', '24', '24'],\n",
       " ['D. Content and Form of the Full Application', '25', '25'],\n",
       " ['i. Full Application Content Requirements', '26', '26'],\n",
       " ['ii. Technical Volume', '27', '27'],\n",
       " ['iii. Resumes', '31', '31'],\n",
       " ['iv. Letters of Commitment', '32', '32'],\n",
       " ['v. Statement of Project Objectives (SOPO)', '33', '33'],\n",
       " ['vi. SF- 424: Application for Federal Assistance', '33', '33'],\n",
       " ['vii. Budget Justification Workbook', '33', '33'],\n",
       " ['viii. Summary for Public Release', '34', '34'],\n",
       " ['ix. Summary Slide', '34', '34'],\n",
       " ['x. Subrecipient Budget Justification (if applicable)', '35', '35'],\n",
       " ['xi. Budget for DOE/NNSA FFRDC (if applicable)', '35', '35'],\n",
       " ['xii. Authorization for Non-DOE/NNSA or DOE/NNSA FFRDCs (if applicable)',\n",
       "  '35',\n",
       "  '35'],\n",
       " ['xiii. SF- LLL: Disclosure of Lobbying Activities (required)', '35', '35'],\n",
       " ['xiv. Waiver Requests (if applicable)', '36', '36'],\n",
       " ['R&D Community Benefits Plan', '36', '36'],\n",
       " ['Current and Pending Support', '38', '38'],\n",
       " ['Locations of Work', '41', '41'],\n",
       " ['Transparency of Foreign Connections', '41', '41'],\n",
       " ['Potentially Duplicative Funding Notice', '42', '42'],\n",
       " ['Data Management Plan', '43', '43'],\n",
       " ['Post Selection Information Requests', '44', '44'],\n",
       " ['Unique Entity Identifier (UEI) and System for Award Management (SAM)',\n",
       "  '45',\n",
       "  '45'],\n",
       " ['Submission Dates and Times', '45', '45'],\n",
       " ['Intergovernmental Review', '45', '45'],\n",
       " ['I. Funding Restrictions', '45', '52'],\n",
       " ['i. Allowable Costs', '45', '45'],\n",
       " ['ii. Pre-Award Costs', '46', '46'],\n",
       " ['iii. Performance of Work in the United States (Foreign Work Waiver)',\n",
       "  '47',\n",
       "  '47'],\n",
       " ['iv. Construction', '47', '47'],\n",
       " ['v. Foreign Travel', '48', '48'],\n",
       " ['vi. Equipment and Supplies', '48', '48'],\n",
       " ['vii. Build America Buy America Requirements for Infrastructure Projects',\n",
       "  '48',\n",
       "  '48'],\n",
       " ['viii. Davis-Bacon Act Requirements', '50', '50'],\n",
       " ['ix. Lobbying', '52', '52'],\n",
       " ['x. Risk Assessment', '52', '52'],\n",
       " ['xi. Invoice Review and Approval', '53', '53'],\n",
       " ['xii. Prohibition Related to Foreign Government-Sponsored Talent Recruitment Programs',\n",
       "  '54',\n",
       "  '54'],\n",
       " ['xiii. Affirmative Action and Pay Transparency Requirements', '55', '55'],\n",
       " ['xiv. Foreign Collaboration Considerations', '56', '56'],\n",
       " ['V. Application Review Information', '56', '61'],\n",
       " ['A. Technical Review Criteria', '56', '61'],\n",
       " ['i. Concept Papers', '56', '61'],\n",
       " ['ii. Full Applications', '57', '61'],\n",
       " ['B. Standards for Application Evaluation', '61', '61'],\n",
       " ['C. Other Selection Factors', '61', '61'],\n",
       " ['D. Evaluation and Selection Process', '62', '63'],\n",
       " ['E. Anticipated Notice of Selection and Award Negotiation Dates',\n",
       "  '63',\n",
       "  '63'],\n",
       " ['VI. Award Administration Information', '64', '64'],\n",
       " ['i. Ineligible Submissions', '64', '64'],\n",
       " ['ii. Concept Paper Notifications', '64', '64'],\n",
       " ['iii. Full Application Notifications', '64', '64'],\n",
       " ['iv. Applicants Selected for Award Negotiations', '64', '64'],\n",
       " ['v. Alternate Selection Determinations', '65', '65'],\n",
       " ['vi. Unsuccessful Applicants', '65', '65'],\n",
       " ['B. Administrative and National Policy Requirements', '65', '67'],\n",
       " ['i. Registration Requirements', '65', '65'],\n",
       " ['ii. Award Administrative Requirements', '67', '67'],\n",
       " ['iii. Foreign National Participation', '67', '67'],\n",
       " ['iv. Subaward and Executive Reporting', '67', '67'],\n",
       " ['National Policy Requirements', '68', '68'],\n",
       " ['Environmental Review in Accordance with National Environmental Policy Act (NEPA)',\n",
       "  '68',\n",
       "  '68'],\n",
       " ['Flood Resilience', '68', '68'],\n",
       " ['Applicant Representations and Certifications', '69', '69'],\n",
       " ['Statement of Federal Stewardship', '70', '70'],\n",
       " ['Subject Invention Utilization Reporting', '71', '71'],\n",
       " ['Intellectual Property Provisions', '71', '71'],\n",
       " ['Reporting', '71', '71'],\n",
       " ['Go/No-Go Review', '72', '72'],\n",
       " ['Conference Spending', '73', '73'],\n",
       " ['Uniform Commercial Code (UCC) Financing Statements', '73', '73'],\n",
       " ['Real Property and Equipment', '74', '74'],\n",
       " ['Participants and Collaborating Organizations', '75', '75'],\n",
       " ['Current and Pending Support', '75', '75'],\n",
       " ['U.S. Manufacturing Commitments', '75', '75'],\n",
       " ['Interim Conflict of Interest Policy for Financial Assistance', '76', '76'],\n",
       " ['Data Management Plan', '77', '77'],\n",
       " ['Human Subjects Research', '78', '78'],\n",
       " ['xxv. Cybersecurity Plan', '79', '79'],\n",
       " ['VII. Questions/Agency Contacts', '80', '80'],\n",
       " ['VIII. Other Information', '80', '82'],\n",
       " ['H. Requirement for Full and Complete Disclosure', '82', '82'],\n",
       " ['I. Retention of Submissions', '83', '83'],\n",
       " ['J. Title to Subject Inventions', '83', '83'],\n",
       " ['K. Government Rights in Subject Inventions', '84', '84'],\n",
       " ['L. Rights in Technical Data', '85', '85'],\n",
       " ['M. Copyright', '85', '85'],\n",
       " ['N. Export Control', '86', '86'],\n",
       " ['O. Prohibition on Certain Telecommunications and Video Surveillance Services or Equipment',\n",
       "  '86',\n",
       "  '86'],\n",
       " ['P. Personally Identifiable Information (PII)', '86', '86'],\n",
       " ['Q. Annual Independent Audits', '87', '87'],\n",
       " ['Appendix A – Cost Share Information', '88', '88'],\n",
       " ['Appendix B – Sample Cost Share Calculation for Blended Cost Share Percentage',\n",
       "  '93',\n",
       "  '93'],\n",
       " ['Appendix C – Waiver Requests For: 1. Foreign Entity Participation; and 2. Foreign Work',\n",
       "  '95',\n",
       "  '95'],\n",
       " ['Appendix E – Definition of Technology Readiness Levels', '102', '102'],\n",
       " ['Appendix F – List of Acronyms', '103', '103'],\n",
       " ['Appendix G – R&D Community Benefits Plan Guidance', '105', '105'],\n",
       " ['1.1.5 Heading 1', '5', '5'],\n",
       " ['1.1.6 Heading 2', '6', '6'],\n",
       " ['1.1.7 Heading 3', '7', '8']]"
      ]
     },
     "execution_count": 4,
     "metadata": {},
     "output_type": "execute_result"
    }
   ],
   "source": [
    "annotator.extract_contents()"
   ]
  },
  {
   "cell_type": "code",
   "execution_count": null,
   "metadata": {},
   "outputs": [],
   "source": [
    "# save into a file\n",
    "with open(\"doefund.txt\", \"w\") as f:\n",
    "    for content in annotator.contents:\n",
    "        f.write(\", \".join(content) + \"\\n\")"
   ]
  },
  {
   "cell_type": "code",
   "execution_count": 8,
   "metadata": {},
   "outputs": [
    {
     "data": {
      "text/markdown": [
       " Table of Contents Table of Contents ................................................................................................................................................ i I. Funding Opportunity Description .............................................................................................................. 1 A. Background and Context ................................................................................................................................. 1 i. Program Purpose ........................................................................................................................................ 2 ii. Technology Space and Strategic Goals ....................................................................................................... 5 B. Topic Areas ...................................................................................................................................................... 6 C. Applications Specifically Not of Interest ........................................................................................................ 11 D. R&D Community Benefits Plan (CBP) ............................................................................................................ 12 E. Authorizing Statutes ...................................................................................................................................... 12 F. Notice of Bipartisan Infrastructure Law– Specific Requirements .................................................................. 13 II. Award Information ................................................................................................................................... 14 A. Award Overview ............................................................................................................................................ 14 i. Estimated Funding .................................................................................................................................... 14 ii. Period of Performance ............................................................................................................................. 14 iii. New Applications Only ............................................................................................................................. 14 B. DOE Funding Agreements ............................................................................................................................. 14 i. Funding Agreements with Federally Funded Research and Development Center (FFRDCs) ................... 15 ii. Grants ....................................................................................................................................................... 15 III. Eligibility Information ............................................................................................................................... 15 A. Eligible Applicants ......................................................................................................................................... 15 i. Domestic Entities ...................................................................................................................................... 15 ii. Foreign Entities ......................................................................................................................................... 16 B. Cost Sharing ................................................................................................................................................... 16 i. Legal Responsibility .................................................................................................................................. 17 ii. Cost Share Allocation ................................................................................................................................ 17 iii. Cost Share Types and Allowability ............................................................................................................ 18 iv. Cost Share Contributions by FFRDCs ........................................................................................................ 19 v. Cost Share Verification ............................................................................................................................. 19 vi. Cost Share Payment .................................................................................................................................. 19 C. Compliance Criteria ....................................................................................................................................... 20 D. Responsiveness Criteria................................................................................................................................. 21 E. Other Eligibility Requirements ...................................................................................................................... 21 i. Requirements for DOE/NNSA and Non- DOE/NNSA FFRDCs Included as a Subrecipient ......................... 21 F. Limitation on Number of Concept Papers and Full Applications Eligible for Review .................................... 22 G. Questions Regarding Eligibility ...................................................................................................................... 23 IV. Application and Submission Information .................................................................................................. 23 A. Application Process ....................................................................................................................................... 23 i. Additional Information on EERE eXCHANGE ............................................................................................ 24 B. Application Forms ......................................................................................................................................... 24 C. Content and Form of the Concept Paper ...................................................................................................... 24 D. Content and Form of the Full Application ..................................................................................................... 25 i. Full Application Content Requirements.................................................................................................... 26 ii. Technical Volume ..................................................................................................................................... 27 iii. Resumes ................................................................................................................................................... 31 iv. Letters of Commitment ............................................................................................................................ 32 Questions about this FOA? Email: DE-FOA-0003120@netl.doe.gov Problems with EERE eXCHANGE? Email EERE -eXCHANGESupport@hq.doe.gov Include FOA name and number in subject line. i"
      ],
      "text/plain": [
       "<IPython.core.display.Markdown object>"
      ]
     },
     "metadata": {},
     "output_type": "display_data"
    }
   ],
   "source": [
    "from IPython.display import display, Markdown\n",
    "display(Markdown(annotator.chunks[0]))"
   ]
  },
  {
   "cell_type": "code",
   "execution_count": 18,
   "metadata": {},
   "outputs": [
    {
     "data": {
      "text/plain": [
       "(50,\n",
       " ['Table of Contents',\n",
       "  'Table of Contents ................................................................................................................................................                                                                                                                                                                                                                                                                                                                                                                                                                                                                                                                                                                                                                                                                                                                                                                                                                                                                                                                                                                                                                                                                                                                                                                                                                                                                                                                                                                                                                                                                                                                                                                                                                                                                                                                                                                                          i',\n",
       "  'I.                                                                      Funding Opportunity Description  ..............................................................................................................                                                                                                                                                                                                                                                                                                                                                                                                                                                                                                                                                                                                                                                                                                                                                                                                                                                                                                                                                                                                                                                                                                                                                                                                                                                                                                                                                                    1',\n",
       "  'A.                                                                                                                  Background and Context .................................................................................................................................                                                                                                                                                                                                                                                                                                                                                                                                                                                                                                                                                                            1',\n",
       "  'i.                                                                           Program Purpose ........................................................................................................................................                                                                                                                                                                                                                                                                                                                                                                                                                                                                                                                                                                                                                2',\n",
       "  'ii.                                                                 Technology Space and Strategic Goals .......................................................................................................                                                                                                                                                                                                                                                                                                                                                                                                        5',\n",
       "  'B.                                                                                                                    Topic Areas ......................................................................................................................................................                                                                                                                                                                                                                                                                                                                                                                                                                                                                                                                                                                                                                                                                                                                                                                            6',\n",
       "  'C.                                                                                                                    Applications Specifically Not of Interest ........................................................................................................                                                                                                                                                                                                                                                                                                                                                                                                                                                    11',\n",
       "  'D.                                                                                                             R&D Community Benefits Plan (CBP) ............................................................................................................                                                                                                                                                                                                                                                                                                                                                                                                                                                                                                            12',\n",
       "  'E.                                                                                                                   Authorizing Statutes ......................................................................................................................................                                                                                                                                                                                                                                                                                                                                                                                                                                                                                                                                                                                                   12'])"
      ]
     },
     "execution_count": 18,
     "metadata": {},
     "output_type": "execute_result"
    }
   ],
   "source": [
    "text = annotator.reader.pages[2].extract_text(extraction_mode=\"layout\")\n",
    "lines = [line.strip() for line in text.split(\"\\n\") if line.strip()]"
   ]
  },
  {
   "cell_type": "code",
   "execution_count": null,
   "metadata": {},
   "outputs": [],
   "source": []
  }
 ],
 "metadata": {
  "kernelspec": {
   "display_name": "venv",
   "language": "python",
   "name": "python3"
  },
  "language_info": {
   "codemirror_mode": {
    "name": "ipython",
    "version": 3
   },
   "file_extension": ".py",
   "mimetype": "text/x-python",
   "name": "python",
   "nbconvert_exporter": "python",
   "pygments_lexer": "ipython3",
   "version": "3.11.5"
  }
 },
 "nbformat": 4,
 "nbformat_minor": 2
}
